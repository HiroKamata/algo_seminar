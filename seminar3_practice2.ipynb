{
  "cells": [
    {
      "cell_type": "markdown",
      "metadata": {},
      "source": [
        "# diffusers Unet2DModelの使い方"
      ]
    },
    {
      "cell_type": "code",
      "execution_count": 9,
      "metadata": {
        "colab": {
          "base_uri": "https://localhost:8080/",
          "height": 1000
        },
        "id": "WnHV5hlDIpcL",
        "outputId": "d40007b6-d739-4726-8e54-0ebbd1410243"
      },
      "outputs": [
        {
          "name": "stdout",
          "output_type": "stream",
          "text": [
            "Using device: cuda\n",
            "Output: tensor([[[[ 0.3268, -0.1131,  0.2322,  ..., -0.1736,  0.3239,  0.0082],\n",
            "          [-0.0378,  0.4508,  0.1193,  ..., -0.0061, -0.0528, -0.0094],\n",
            "          [ 0.2032, -0.2329, -0.0493,  ...,  0.3918,  0.4000,  0.0898],\n",
            "          ...,\n",
            "          [-0.0598, -0.0303,  0.0379,  ..., -0.2949, -0.0208,  0.3868],\n",
            "          [ 0.2345,  0.1026, -0.2034,  ...,  0.3077,  0.2725, -0.1479],\n",
            "          [ 0.0478,  0.2690, -0.0245,  ...,  0.1369,  0.0321,  0.0119]]]],\n",
            "       device='cuda:0', grad_fn=<ConvolutionBackward0>)\n"
          ]
        }
      ],
      "source": [
        "\n",
        "import torch\n",
        "from diffusers import UNet2DModel\n",
        "\n",
        "\n",
        "# デバイスの設定\n",
        "device = 'cuda' if torch.cuda.is_available() else 'cpu'\n",
        "print(f\"Using device: {device}\")\n",
        "\n",
        "# UNet2DModel の初期化\n",
        "# サンプルの設定: 入力は1チャネル、出力も1チャネル、32x32画像を対象\n",
        "model = UNet2DModel(\n",
        "    sample_size=32,  # 入力画像のサイズ\n",
        "    in_channels=1,   # 入力チャネル数\n",
        "    out_channels=1,  # 出力チャネル数\n",
        "    layers_per_block=2,\n",
        "    block_out_channels=(32, 64, 128),\n",
        "    down_block_types=(\"DownBlock2D\", \"DownBlock2D\", \"AttnDownBlock2D\"),\n",
        "    up_block_types=(\"AttnUpBlock2D\", \"UpBlock2D\", \"UpBlock2D\"),\n",
        ").to(device)\n",
        "\n",
        "# ダミーの入力テンソルを生成 (バッチサイズ 1、チャネル数 1、32x32画像の例)\n",
        "input_tensor = torch.randn(1, 1, 32, 32, device=device)\n",
        "\n",
        "# ダミーのタイムステップテンソル\n",
        "t = torch.tensor([10], device=device)  # 時間ステップを指定\n",
        "\n",
        "# モデルにテンソルを入力して結果を取得\n",
        "# .sampleで結果を取り出すので注意\n",
        "output = model(input_tensor, t).sample\n",
        "\n",
        "# モデルの出力の shape を確認\n",
        "print(f\"Output: {output}\")  # 出力に sample 属性が必要\n"
      ]
    }
  ],
  "metadata": {
    "colab": {
      "provenance": []
    },
    "kernelspec": {
      "display_name": ".venv",
      "language": "python",
      "name": "python3"
    },
    "language_info": {
      "codemirror_mode": {
        "name": "ipython",
        "version": 3
      },
      "file_extension": ".py",
      "mimetype": "text/x-python",
      "name": "python",
      "nbconvert_exporter": "python",
      "pygments_lexer": "ipython3",
      "version": "3.10.12"
    }
  },
  "nbformat": 4,
  "nbformat_minor": 0
}
